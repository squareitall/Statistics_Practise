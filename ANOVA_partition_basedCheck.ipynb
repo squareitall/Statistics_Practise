{
  "cells": [
    {
      "cell_type": "code",
      "execution_count": 1,
      "id": "881555ab",
      "metadata": {
        "id": "881555ab"
      },
      "outputs": [],
      "source": [
        "import os\n",
        "import sys\n",
        "\n",
        "import pandas as pd\n",
        "import numpy as np\n",
        "import matplotlib.pyplot as plt\n",
        "\n",
        "from scipy.stats import f_oneway as anova\n"
      ]
    },
    {
      "cell_type": "code",
      "execution_count": 2,
      "id": "8eb3881e",
      "metadata": {
        "id": "8eb3881e"
      },
      "outputs": [],
      "source": [
        "df=pd.read_csv('2021_seg_24_productCountData.csv',index_col=[0,1])\n",
        "# df=pd.read_csv('./data/2021_seg_24_productCountData.csv',index_col=[0,1])\n",
        "\n",
        "dict_bootstrap_dfs_nanFilled={}\n",
        "\n",
        "for ii,dfi in df.groupby(level=0):\n",
        "    dict_bootstrap_dfs_nanFilled[ii]=dfi.droplevel(0).fillna(dfi.mean())\n",
        "#     display(dfi.droplevel(0))#df_temp.loc[ii,:]\n",
        "#     break\n",
        "\n",
        "\n",
        "\n",
        "df_all_samples_bootstrapped=pd.concat(dict_bootstrap_dfs_nanFilled)\n"
      ]
    },
    {
      "cell_type": "code",
      "execution_count": 3,
      "id": "b2798c1a",
      "metadata": {
        "colab": {
          "base_uri": "https://localhost:8080/",
          "height": 609
        },
        "id": "b2798c1a",
        "outputId": "81538b08-a62a-4db9-c5e3-ba94ad573de6"
      },
      "outputs": [
        {
          "output_type": "execute_result",
          "data": {
            "text/plain": [
              "                                 Grocery Stores  \\\n",
              "2021_01_first_half  ct_users_0             16.0   \n",
              "                    ct_users_1              5.0   \n",
              "                    ct_users_2             17.0   \n",
              "                    ct_users_3              4.0   \n",
              "                    ct_users_4              7.0   \n",
              "...                                         ...   \n",
              "2021_12_second_half ct_users_15            46.0   \n",
              "                    ct_users_16            14.0   \n",
              "                    ct_users_17            17.0   \n",
              "                    ct_users_18            45.0   \n",
              "                    ct_users_19            10.0   \n",
              "\n",
              "                                 Restaurants and Other Eating Places  \\\n",
              "2021_01_first_half  ct_users_0                                    14   \n",
              "                    ct_users_1                                    34   \n",
              "                    ct_users_2                                     4   \n",
              "                    ct_users_3                                     9   \n",
              "                    ct_users_4                                    22   \n",
              "...                                                              ...   \n",
              "2021_12_second_half ct_users_15                                   33   \n",
              "                    ct_users_16                                   23   \n",
              "                    ct_users_17                                   54   \n",
              "                    ct_users_18                                   48   \n",
              "                    ct_users_19                                   86   \n",
              "\n",
              "                                 General Merchandise Stores, including Warehouse Clubs and Supercenters  \\\n",
              "2021_01_first_half  ct_users_0                                                10.0                        \n",
              "                    ct_users_1                                                11.0                        \n",
              "                    ct_users_2                                                14.0                        \n",
              "                    ct_users_3                                                18.0                        \n",
              "                    ct_users_4                                                11.0                        \n",
              "...                                                                            ...                        \n",
              "2021_12_second_half ct_users_15                                                7.0                        \n",
              "                    ct_users_16                                               16.0                        \n",
              "                    ct_users_17                                                9.0                        \n",
              "                    ct_users_18                                                9.0                        \n",
              "                    ct_users_19                                                8.0                        \n",
              "\n",
              "                                 Building Material and Supplies Dealers  \\\n",
              "2021_01_first_half  ct_users_0                                      8.0   \n",
              "                    ct_users_1                                      8.0   \n",
              "                    ct_users_2                                      4.0   \n",
              "                    ct_users_3                                      3.0   \n",
              "                    ct_users_4                                      9.0   \n",
              "...                                                                 ...   \n",
              "2021_12_second_half ct_users_15                                    29.0   \n",
              "                    ct_users_16                                    21.0   \n",
              "                    ct_users_17                                    13.0   \n",
              "                    ct_users_18                                     4.0   \n",
              "                    ct_users_19                                    27.0   \n",
              "\n",
              "                                 Health and Personal Care Stores  \\\n",
              "2021_01_first_half  ct_users_0                               4.0   \n",
              "                    ct_users_1                               6.0   \n",
              "                    ct_users_2                               6.0   \n",
              "                    ct_users_3                               7.0   \n",
              "                    ct_users_4                               4.0   \n",
              "...                                                          ...   \n",
              "2021_12_second_half ct_users_15                             11.0   \n",
              "                    ct_users_16                             11.0   \n",
              "                    ct_users_17                              3.0   \n",
              "                    ct_users_18                             11.0   \n",
              "                    ct_users_19                             11.0   \n",
              "\n",
              "                                 Automotive Parts, Accessories, and Tire Stores  \\\n",
              "2021_01_first_half  ct_users_0                                         4.000000   \n",
              "                    ct_users_1                                         4.444444   \n",
              "                    ct_users_2                                         4.444444   \n",
              "                    ct_users_3                                        16.000000   \n",
              "                    ct_users_4                                         4.444444   \n",
              "...                                                                         ...   \n",
              "2021_12_second_half ct_users_15                                       16.000000   \n",
              "                    ct_users_16                                        4.000000   \n",
              "                    ct_users_17                                        6.000000   \n",
              "                    ct_users_18                                       15.000000   \n",
              "                    ct_users_19                                       16.500000   \n",
              "\n",
              "                                 Department Stores  \\\n",
              "2021_01_first_half  ct_users_0            3.000000   \n",
              "                    ct_users_1            4.000000   \n",
              "                    ct_users_2            1.000000   \n",
              "                    ct_users_3           12.000000   \n",
              "                    ct_users_4            6.000000   \n",
              "...                                            ...   \n",
              "2021_12_second_half ct_users_15          14.833333   \n",
              "                    ct_users_16          14.833333   \n",
              "                    ct_users_17          14.833333   \n",
              "                    ct_users_18          14.833333   \n",
              "                    ct_users_19          14.833333   \n",
              "\n",
              "                                 Depository Credit Intermediation  \\\n",
              "2021_01_first_half  ct_users_0                           2.000000   \n",
              "                    ct_users_1                           1.500000   \n",
              "                    ct_users_2                           1.500000   \n",
              "                    ct_users_3                           1.500000   \n",
              "                    ct_users_4                           1.500000   \n",
              "...                                                           ...   \n",
              "2021_12_second_half ct_users_15                         12.333333   \n",
              "                    ct_users_16                         12.333333   \n",
              "                    ct_users_17                         12.333333   \n",
              "                    ct_users_18                         12.333333   \n",
              "                    ct_users_19                         15.000000   \n",
              "\n",
              "                                 Sporting Goods, Hobby, and Musical Instrument Stores  \\\n",
              "2021_01_first_half  ct_users_0                                            1.000000      \n",
              "                    ct_users_1                                            4.454545      \n",
              "                    ct_users_2                                           26.000000      \n",
              "                    ct_users_3                                            4.000000      \n",
              "                    ct_users_4                                            3.000000      \n",
              "...                                                                            ...      \n",
              "2021_12_second_half ct_users_15                                          10.214286      \n",
              "                    ct_users_16                                           4.000000      \n",
              "                    ct_users_17                                           4.000000      \n",
              "                    ct_users_18                                           3.000000      \n",
              "                    ct_users_19                                          10.214286      \n",
              "\n",
              "                                 Shoe Stores  ...  \\\n",
              "2021_01_first_half  ct_users_0           1.0  ...   \n",
              "                    ct_users_1           1.0  ...   \n",
              "                    ct_users_2           1.0  ...   \n",
              "                    ct_users_3           1.0  ...   \n",
              "                    ct_users_4           1.0  ...   \n",
              "...                                      ...  ...   \n",
              "2021_12_second_half ct_users_15          NaN  ...   \n",
              "                    ct_users_16          NaN  ...   \n",
              "                    ct_users_17          NaN  ...   \n",
              "                    ct_users_18          NaN  ...   \n",
              "                    ct_users_19          NaN  ...   \n",
              "\n",
              "                                 Beer, Wine, and Liquor Stores  \\\n",
              "2021_01_first_half  ct_users_0                             NaN   \n",
              "                    ct_users_1                             NaN   \n",
              "                    ct_users_2                             NaN   \n",
              "                    ct_users_3                             NaN   \n",
              "                    ct_users_4                             NaN   \n",
              "...                                                        ...   \n",
              "2021_12_second_half ct_users_15                            3.0   \n",
              "                    ct_users_16                            3.0   \n",
              "                    ct_users_17                            3.0   \n",
              "                    ct_users_18                            3.0   \n",
              "                    ct_users_19                            3.0   \n",
              "\n",
              "                                 Amusement Parks and Arcades  \\\n",
              "2021_01_first_half  ct_users_0                           NaN   \n",
              "                    ct_users_1                           NaN   \n",
              "                    ct_users_2                           NaN   \n",
              "                    ct_users_3                           NaN   \n",
              "                    ct_users_4                           NaN   \n",
              "...                                                      ...   \n",
              "2021_12_second_half ct_users_15                          1.0   \n",
              "                    ct_users_16                          1.0   \n",
              "                    ct_users_17                          1.0   \n",
              "                    ct_users_18                          1.0   \n",
              "                    ct_users_19                          1.0   \n",
              "\n",
              "                                 Motor Vehicle and Motor Vehicle Parts and Supplies Merchant Wholesalers  \\\n",
              "2021_01_first_half  ct_users_0                                                 NaN                         \n",
              "                    ct_users_1                                                 NaN                         \n",
              "                    ct_users_2                                                 NaN                         \n",
              "                    ct_users_3                                                 NaN                         \n",
              "                    ct_users_4                                                 NaN                         \n",
              "...                                                                            ...                         \n",
              "2021_12_second_half ct_users_15                                                NaN                         \n",
              "                    ct_users_16                                                NaN                         \n",
              "                    ct_users_17                                                NaN                         \n",
              "                    ct_users_18                                                NaN                         \n",
              "                    ct_users_19                                                NaN                         \n",
              "\n",
              "                                 Specialized Freight Trucking  \\\n",
              "2021_01_first_half  ct_users_0                            NaN   \n",
              "                    ct_users_1                            NaN   \n",
              "                    ct_users_2                            NaN   \n",
              "                    ct_users_3                            NaN   \n",
              "                    ct_users_4                            NaN   \n",
              "...                                                       ...   \n",
              "2021_12_second_half ct_users_15                           NaN   \n",
              "                    ct_users_16                           NaN   \n",
              "                    ct_users_17                           NaN   \n",
              "                    ct_users_18                           NaN   \n",
              "                    ct_users_19                           NaN   \n",
              "\n",
              "                                 Employment Services  \\\n",
              "2021_01_first_half  ct_users_0                   NaN   \n",
              "                    ct_users_1                   NaN   \n",
              "                    ct_users_2                   NaN   \n",
              "                    ct_users_3                   NaN   \n",
              "                    ct_users_4                   NaN   \n",
              "...                                              ...   \n",
              "2021_12_second_half ct_users_15                  NaN   \n",
              "                    ct_users_16                  NaN   \n",
              "                    ct_users_17                  NaN   \n",
              "                    ct_users_18                  NaN   \n",
              "                    ct_users_19                  NaN   \n",
              "\n",
              "                                 Management of Companies and Enterprises  \\\n",
              "2021_01_first_half  ct_users_0                                       NaN   \n",
              "                    ct_users_1                                       NaN   \n",
              "                    ct_users_2                                       NaN   \n",
              "                    ct_users_3                                       NaN   \n",
              "                    ct_users_4                                       NaN   \n",
              "...                                                                  ...   \n",
              "2021_12_second_half ct_users_15                                     15.0   \n",
              "                    ct_users_16                                     15.0   \n",
              "                    ct_users_17                                     15.0   \n",
              "                    ct_users_18                                     15.0   \n",
              "                    ct_users_19                                     15.0   \n",
              "\n",
              "                                 Electric Power Generation, Transmission and Distribution  \\\n",
              "2021_01_first_half  ct_users_0                                                 NaN          \n",
              "                    ct_users_1                                                 NaN          \n",
              "                    ct_users_2                                                 NaN          \n",
              "                    ct_users_3                                                 NaN          \n",
              "                    ct_users_4                                                 NaN          \n",
              "...                                                                            ...          \n",
              "2021_12_second_half ct_users_15                                                NaN          \n",
              "                    ct_users_16                                                NaN          \n",
              "                    ct_users_17                                                NaN          \n",
              "                    ct_users_18                                                NaN          \n",
              "                    ct_users_19                                                NaN          \n",
              "\n",
              "                                 Drinking Places (Alcoholic Beverages)  \\\n",
              "2021_01_first_half  ct_users_0                                     NaN   \n",
              "                    ct_users_1                                     NaN   \n",
              "                    ct_users_2                                     NaN   \n",
              "                    ct_users_3                                     NaN   \n",
              "                    ct_users_4                                     NaN   \n",
              "...                                                                ...   \n",
              "2021_12_second_half ct_users_15                                    NaN   \n",
              "                    ct_users_16                                    NaN   \n",
              "                    ct_users_17                                    NaN   \n",
              "                    ct_users_18                                    NaN   \n",
              "                    ct_users_19                                    NaN   \n",
              "\n",
              "                                 Freight Transportation Arrangement  \\\n",
              "2021_01_first_half  ct_users_0                                  NaN   \n",
              "                    ct_users_1                                  NaN   \n",
              "                    ct_users_2                                  NaN   \n",
              "                    ct_users_3                                  NaN   \n",
              "                    ct_users_4                                  NaN   \n",
              "...                                                             ...   \n",
              "2021_12_second_half ct_users_15                                 NaN   \n",
              "                    ct_users_16                                 NaN   \n",
              "                    ct_users_17                                 NaN   \n",
              "                    ct_users_18                                 NaN   \n",
              "                    ct_users_19                                 NaN   \n",
              "\n",
              "                                 Securities and Commodity Contracts Intermediation and Brokerage  \n",
              "2021_01_first_half  ct_users_0                                                 NaN                \n",
              "                    ct_users_1                                                 NaN                \n",
              "                    ct_users_2                                                 NaN                \n",
              "                    ct_users_3                                                 NaN                \n",
              "                    ct_users_4                                                 NaN                \n",
              "...                                                                            ...                \n",
              "2021_12_second_half ct_users_15                                                NaN                \n",
              "                    ct_users_16                                                NaN                \n",
              "                    ct_users_17                                                NaN                \n",
              "                    ct_users_18                                                NaN                \n",
              "                    ct_users_19                                                NaN                \n",
              "\n",
              "[480 rows x 60 columns]"
            ],
            "text/html": [
              "\n",
              "  <div id=\"df-84f6c361-cf82-44cb-b214-7d6f5684b1ad\">\n",
              "    <div class=\"colab-df-container\">\n",
              "      <div>\n",
              "<style scoped>\n",
              "    .dataframe tbody tr th:only-of-type {\n",
              "        vertical-align: middle;\n",
              "    }\n",
              "\n",
              "    .dataframe tbody tr th {\n",
              "        vertical-align: top;\n",
              "    }\n",
              "\n",
              "    .dataframe thead th {\n",
              "        text-align: right;\n",
              "    }\n",
              "</style>\n",
              "<table border=\"1\" class=\"dataframe\">\n",
              "  <thead>\n",
              "    <tr style=\"text-align: right;\">\n",
              "      <th></th>\n",
              "      <th></th>\n",
              "      <th>Grocery Stores</th>\n",
              "      <th>Restaurants and Other Eating Places</th>\n",
              "      <th>General Merchandise Stores, including Warehouse Clubs and Supercenters</th>\n",
              "      <th>Building Material and Supplies Dealers</th>\n",
              "      <th>Health and Personal Care Stores</th>\n",
              "      <th>Automotive Parts, Accessories, and Tire Stores</th>\n",
              "      <th>Department Stores</th>\n",
              "      <th>Depository Credit Intermediation</th>\n",
              "      <th>Sporting Goods, Hobby, and Musical Instrument Stores</th>\n",
              "      <th>Shoe Stores</th>\n",
              "      <th>...</th>\n",
              "      <th>Beer, Wine, and Liquor Stores</th>\n",
              "      <th>Amusement Parks and Arcades</th>\n",
              "      <th>Motor Vehicle and Motor Vehicle Parts and Supplies Merchant Wholesalers</th>\n",
              "      <th>Specialized Freight Trucking</th>\n",
              "      <th>Employment Services</th>\n",
              "      <th>Management of Companies and Enterprises</th>\n",
              "      <th>Electric Power Generation, Transmission and Distribution</th>\n",
              "      <th>Drinking Places (Alcoholic Beverages)</th>\n",
              "      <th>Freight Transportation Arrangement</th>\n",
              "      <th>Securities and Commodity Contracts Intermediation and Brokerage</th>\n",
              "    </tr>\n",
              "  </thead>\n",
              "  <tbody>\n",
              "    <tr>\n",
              "      <th rowspan=\"5\" valign=\"top\">2021_01_first_half</th>\n",
              "      <th>ct_users_0</th>\n",
              "      <td>16.0</td>\n",
              "      <td>14</td>\n",
              "      <td>10.0</td>\n",
              "      <td>8.0</td>\n",
              "      <td>4.0</td>\n",
              "      <td>4.000000</td>\n",
              "      <td>3.000000</td>\n",
              "      <td>2.000000</td>\n",
              "      <td>1.000000</td>\n",
              "      <td>1.0</td>\n",
              "      <td>...</td>\n",
              "      <td>NaN</td>\n",
              "      <td>NaN</td>\n",
              "      <td>NaN</td>\n",
              "      <td>NaN</td>\n",
              "      <td>NaN</td>\n",
              "      <td>NaN</td>\n",
              "      <td>NaN</td>\n",
              "      <td>NaN</td>\n",
              "      <td>NaN</td>\n",
              "      <td>NaN</td>\n",
              "    </tr>\n",
              "    <tr>\n",
              "      <th>ct_users_1</th>\n",
              "      <td>5.0</td>\n",
              "      <td>34</td>\n",
              "      <td>11.0</td>\n",
              "      <td>8.0</td>\n",
              "      <td>6.0</td>\n",
              "      <td>4.444444</td>\n",
              "      <td>4.000000</td>\n",
              "      <td>1.500000</td>\n",
              "      <td>4.454545</td>\n",
              "      <td>1.0</td>\n",
              "      <td>...</td>\n",
              "      <td>NaN</td>\n",
              "      <td>NaN</td>\n",
              "      <td>NaN</td>\n",
              "      <td>NaN</td>\n",
              "      <td>NaN</td>\n",
              "      <td>NaN</td>\n",
              "      <td>NaN</td>\n",
              "      <td>NaN</td>\n",
              "      <td>NaN</td>\n",
              "      <td>NaN</td>\n",
              "    </tr>\n",
              "    <tr>\n",
              "      <th>ct_users_2</th>\n",
              "      <td>17.0</td>\n",
              "      <td>4</td>\n",
              "      <td>14.0</td>\n",
              "      <td>4.0</td>\n",
              "      <td>6.0</td>\n",
              "      <td>4.444444</td>\n",
              "      <td>1.000000</td>\n",
              "      <td>1.500000</td>\n",
              "      <td>26.000000</td>\n",
              "      <td>1.0</td>\n",
              "      <td>...</td>\n",
              "      <td>NaN</td>\n",
              "      <td>NaN</td>\n",
              "      <td>NaN</td>\n",
              "      <td>NaN</td>\n",
              "      <td>NaN</td>\n",
              "      <td>NaN</td>\n",
              "      <td>NaN</td>\n",
              "      <td>NaN</td>\n",
              "      <td>NaN</td>\n",
              "      <td>NaN</td>\n",
              "    </tr>\n",
              "    <tr>\n",
              "      <th>ct_users_3</th>\n",
              "      <td>4.0</td>\n",
              "      <td>9</td>\n",
              "      <td>18.0</td>\n",
              "      <td>3.0</td>\n",
              "      <td>7.0</td>\n",
              "      <td>16.000000</td>\n",
              "      <td>12.000000</td>\n",
              "      <td>1.500000</td>\n",
              "      <td>4.000000</td>\n",
              "      <td>1.0</td>\n",
              "      <td>...</td>\n",
              "      <td>NaN</td>\n",
              "      <td>NaN</td>\n",
              "      <td>NaN</td>\n",
              "      <td>NaN</td>\n",
              "      <td>NaN</td>\n",
              "      <td>NaN</td>\n",
              "      <td>NaN</td>\n",
              "      <td>NaN</td>\n",
              "      <td>NaN</td>\n",
              "      <td>NaN</td>\n",
              "    </tr>\n",
              "    <tr>\n",
              "      <th>ct_users_4</th>\n",
              "      <td>7.0</td>\n",
              "      <td>22</td>\n",
              "      <td>11.0</td>\n",
              "      <td>9.0</td>\n",
              "      <td>4.0</td>\n",
              "      <td>4.444444</td>\n",
              "      <td>6.000000</td>\n",
              "      <td>1.500000</td>\n",
              "      <td>3.000000</td>\n",
              "      <td>1.0</td>\n",
              "      <td>...</td>\n",
              "      <td>NaN</td>\n",
              "      <td>NaN</td>\n",
              "      <td>NaN</td>\n",
              "      <td>NaN</td>\n",
              "      <td>NaN</td>\n",
              "      <td>NaN</td>\n",
              "      <td>NaN</td>\n",
              "      <td>NaN</td>\n",
              "      <td>NaN</td>\n",
              "      <td>NaN</td>\n",
              "    </tr>\n",
              "    <tr>\n",
              "      <th>...</th>\n",
              "      <th>...</th>\n",
              "      <td>...</td>\n",
              "      <td>...</td>\n",
              "      <td>...</td>\n",
              "      <td>...</td>\n",
              "      <td>...</td>\n",
              "      <td>...</td>\n",
              "      <td>...</td>\n",
              "      <td>...</td>\n",
              "      <td>...</td>\n",
              "      <td>...</td>\n",
              "      <td>...</td>\n",
              "      <td>...</td>\n",
              "      <td>...</td>\n",
              "      <td>...</td>\n",
              "      <td>...</td>\n",
              "      <td>...</td>\n",
              "      <td>...</td>\n",
              "      <td>...</td>\n",
              "      <td>...</td>\n",
              "      <td>...</td>\n",
              "      <td>...</td>\n",
              "    </tr>\n",
              "    <tr>\n",
              "      <th rowspan=\"5\" valign=\"top\">2021_12_second_half</th>\n",
              "      <th>ct_users_15</th>\n",
              "      <td>46.0</td>\n",
              "      <td>33</td>\n",
              "      <td>7.0</td>\n",
              "      <td>29.0</td>\n",
              "      <td>11.0</td>\n",
              "      <td>16.000000</td>\n",
              "      <td>14.833333</td>\n",
              "      <td>12.333333</td>\n",
              "      <td>10.214286</td>\n",
              "      <td>NaN</td>\n",
              "      <td>...</td>\n",
              "      <td>3.0</td>\n",
              "      <td>1.0</td>\n",
              "      <td>NaN</td>\n",
              "      <td>NaN</td>\n",
              "      <td>NaN</td>\n",
              "      <td>15.0</td>\n",
              "      <td>NaN</td>\n",
              "      <td>NaN</td>\n",
              "      <td>NaN</td>\n",
              "      <td>NaN</td>\n",
              "    </tr>\n",
              "    <tr>\n",
              "      <th>ct_users_16</th>\n",
              "      <td>14.0</td>\n",
              "      <td>23</td>\n",
              "      <td>16.0</td>\n",
              "      <td>21.0</td>\n",
              "      <td>11.0</td>\n",
              "      <td>4.000000</td>\n",
              "      <td>14.833333</td>\n",
              "      <td>12.333333</td>\n",
              "      <td>4.000000</td>\n",
              "      <td>NaN</td>\n",
              "      <td>...</td>\n",
              "      <td>3.0</td>\n",
              "      <td>1.0</td>\n",
              "      <td>NaN</td>\n",
              "      <td>NaN</td>\n",
              "      <td>NaN</td>\n",
              "      <td>15.0</td>\n",
              "      <td>NaN</td>\n",
              "      <td>NaN</td>\n",
              "      <td>NaN</td>\n",
              "      <td>NaN</td>\n",
              "    </tr>\n",
              "    <tr>\n",
              "      <th>ct_users_17</th>\n",
              "      <td>17.0</td>\n",
              "      <td>54</td>\n",
              "      <td>9.0</td>\n",
              "      <td>13.0</td>\n",
              "      <td>3.0</td>\n",
              "      <td>6.000000</td>\n",
              "      <td>14.833333</td>\n",
              "      <td>12.333333</td>\n",
              "      <td>4.000000</td>\n",
              "      <td>NaN</td>\n",
              "      <td>...</td>\n",
              "      <td>3.0</td>\n",
              "      <td>1.0</td>\n",
              "      <td>NaN</td>\n",
              "      <td>NaN</td>\n",
              "      <td>NaN</td>\n",
              "      <td>15.0</td>\n",
              "      <td>NaN</td>\n",
              "      <td>NaN</td>\n",
              "      <td>NaN</td>\n",
              "      <td>NaN</td>\n",
              "    </tr>\n",
              "    <tr>\n",
              "      <th>ct_users_18</th>\n",
              "      <td>45.0</td>\n",
              "      <td>48</td>\n",
              "      <td>9.0</td>\n",
              "      <td>4.0</td>\n",
              "      <td>11.0</td>\n",
              "      <td>15.000000</td>\n",
              "      <td>14.833333</td>\n",
              "      <td>12.333333</td>\n",
              "      <td>3.000000</td>\n",
              "      <td>NaN</td>\n",
              "      <td>...</td>\n",
              "      <td>3.0</td>\n",
              "      <td>1.0</td>\n",
              "      <td>NaN</td>\n",
              "      <td>NaN</td>\n",
              "      <td>NaN</td>\n",
              "      <td>15.0</td>\n",
              "      <td>NaN</td>\n",
              "      <td>NaN</td>\n",
              "      <td>NaN</td>\n",
              "      <td>NaN</td>\n",
              "    </tr>\n",
              "    <tr>\n",
              "      <th>ct_users_19</th>\n",
              "      <td>10.0</td>\n",
              "      <td>86</td>\n",
              "      <td>8.0</td>\n",
              "      <td>27.0</td>\n",
              "      <td>11.0</td>\n",
              "      <td>16.500000</td>\n",
              "      <td>14.833333</td>\n",
              "      <td>15.000000</td>\n",
              "      <td>10.214286</td>\n",
              "      <td>NaN</td>\n",
              "      <td>...</td>\n",
              "      <td>3.0</td>\n",
              "      <td>1.0</td>\n",
              "      <td>NaN</td>\n",
              "      <td>NaN</td>\n",
              "      <td>NaN</td>\n",
              "      <td>15.0</td>\n",
              "      <td>NaN</td>\n",
              "      <td>NaN</td>\n",
              "      <td>NaN</td>\n",
              "      <td>NaN</td>\n",
              "    </tr>\n",
              "  </tbody>\n",
              "</table>\n",
              "<p>480 rows × 60 columns</p>\n",
              "</div>\n",
              "      <button class=\"colab-df-convert\" onclick=\"convertToInteractive('df-84f6c361-cf82-44cb-b214-7d6f5684b1ad')\"\n",
              "              title=\"Convert this dataframe to an interactive table.\"\n",
              "              style=\"display:none;\">\n",
              "        \n",
              "  <svg xmlns=\"http://www.w3.org/2000/svg\" height=\"24px\"viewBox=\"0 0 24 24\"\n",
              "       width=\"24px\">\n",
              "    <path d=\"M0 0h24v24H0V0z\" fill=\"none\"/>\n",
              "    <path d=\"M18.56 5.44l.94 2.06.94-2.06 2.06-.94-2.06-.94-.94-2.06-.94 2.06-2.06.94zm-11 1L8.5 8.5l.94-2.06 2.06-.94-2.06-.94L8.5 2.5l-.94 2.06-2.06.94zm10 10l.94 2.06.94-2.06 2.06-.94-2.06-.94-.94-2.06-.94 2.06-2.06.94z\"/><path d=\"M17.41 7.96l-1.37-1.37c-.4-.4-.92-.59-1.43-.59-.52 0-1.04.2-1.43.59L10.3 9.45l-7.72 7.72c-.78.78-.78 2.05 0 2.83L4 21.41c.39.39.9.59 1.41.59.51 0 1.02-.2 1.41-.59l7.78-7.78 2.81-2.81c.8-.78.8-2.07 0-2.86zM5.41 20L4 18.59l7.72-7.72 1.47 1.35L5.41 20z\"/>\n",
              "  </svg>\n",
              "      </button>\n",
              "      \n",
              "  <style>\n",
              "    .colab-df-container {\n",
              "      display:flex;\n",
              "      flex-wrap:wrap;\n",
              "      gap: 12px;\n",
              "    }\n",
              "\n",
              "    .colab-df-convert {\n",
              "      background-color: #E8F0FE;\n",
              "      border: none;\n",
              "      border-radius: 50%;\n",
              "      cursor: pointer;\n",
              "      display: none;\n",
              "      fill: #1967D2;\n",
              "      height: 32px;\n",
              "      padding: 0 0 0 0;\n",
              "      width: 32px;\n",
              "    }\n",
              "\n",
              "    .colab-df-convert:hover {\n",
              "      background-color: #E2EBFA;\n",
              "      box-shadow: 0px 1px 2px rgba(60, 64, 67, 0.3), 0px 1px 3px 1px rgba(60, 64, 67, 0.15);\n",
              "      fill: #174EA6;\n",
              "    }\n",
              "\n",
              "    [theme=dark] .colab-df-convert {\n",
              "      background-color: #3B4455;\n",
              "      fill: #D2E3FC;\n",
              "    }\n",
              "\n",
              "    [theme=dark] .colab-df-convert:hover {\n",
              "      background-color: #434B5C;\n",
              "      box-shadow: 0px 1px 3px 1px rgba(0, 0, 0, 0.15);\n",
              "      filter: drop-shadow(0px 1px 2px rgba(0, 0, 0, 0.3));\n",
              "      fill: #FFFFFF;\n",
              "    }\n",
              "  </style>\n",
              "\n",
              "      <script>\n",
              "        const buttonEl =\n",
              "          document.querySelector('#df-84f6c361-cf82-44cb-b214-7d6f5684b1ad button.colab-df-convert');\n",
              "        buttonEl.style.display =\n",
              "          google.colab.kernel.accessAllowed ? 'block' : 'none';\n",
              "\n",
              "        async function convertToInteractive(key) {\n",
              "          const element = document.querySelector('#df-84f6c361-cf82-44cb-b214-7d6f5684b1ad');\n",
              "          const dataTable =\n",
              "            await google.colab.kernel.invokeFunction('convertToInteractive',\n",
              "                                                     [key], {});\n",
              "          if (!dataTable) return;\n",
              "\n",
              "          const docLinkHtml = 'Like what you see? Visit the ' +\n",
              "            '<a target=\"_blank\" href=https://colab.research.google.com/notebooks/data_table.ipynb>data table notebook</a>'\n",
              "            + ' to learn more about interactive tables.';\n",
              "          element.innerHTML = '';\n",
              "          dataTable['output_type'] = 'display_data';\n",
              "          await google.colab.output.renderOutput(dataTable, element);\n",
              "          const docLink = document.createElement('div');\n",
              "          docLink.innerHTML = docLinkHtml;\n",
              "          element.appendChild(docLink);\n",
              "        }\n",
              "      </script>\n",
              "    </div>\n",
              "  </div>\n",
              "  "
            ]
          },
          "metadata": {},
          "execution_count": 3
        }
      ],
      "source": [
        "df_all_samples_bootstrapped"
      ]
    },
    {
      "cell_type": "code",
      "execution_count": 4,
      "id": "67a36bf1",
      "metadata": {
        "colab": {
          "base_uri": "https://localhost:8080/",
          "height": 426
        },
        "id": "67a36bf1",
        "outputId": "d7f214ae-dc05-4934-e804-eeaa684b38f5"
      },
      "outputs": [
        {
          "output_type": "execute_result",
          "data": {
            "text/plain": [
              "                                                    count       mean  \\\n",
              "Restaurants and Other Eating Places                 480.0  32.220833   \n",
              "General Merchandise Stores, including Warehouse...  480.0  14.230190   \n",
              "Building Material and Supplies Dealers              480.0  12.398861   \n",
              "Grocery Stores                                      480.0  10.675890   \n",
              "Traveler Accommodation                              480.0  10.398986   \n",
              "Other Amusement and Recreation Industries           480.0   7.861345   \n",
              "Automotive Parts, Accessories, and Tire Stores      480.0   7.736373   \n",
              "Gasoline Stations                                   480.0   6.934493   \n",
              "Department Stores                                   480.0   6.673715   \n",
              "Sporting Goods, Hobby, and Musical Instrument S...  480.0   6.235355   \n",
              "Health and Personal Care Stores                     480.0   5.922816   \n",
              "Clothing Stores                                     480.0   5.201587   \n",
              "\n",
              "                                                          std  min   25%  \\\n",
              "Restaurants and Other Eating Places                 16.845645  2.0  20.0   \n",
              "General Merchandise Stores, including Warehouse...   8.501117  2.0   9.0   \n",
              "Building Material and Supplies Dealers              11.170362  1.0   5.0   \n",
              "Grocery Stores                                       7.565685  1.0   6.0   \n",
              "Traveler Accommodation                               9.884262  1.0   5.0   \n",
              "Other Amusement and Recreation Industries            5.781132  1.0   4.0   \n",
              "Automotive Parts, Accessories, and Tire Stores       6.939752  1.0   4.0   \n",
              "Gasoline Stations                                    5.422963  1.0   4.0   \n",
              "Department Stores                                    5.494720  1.0   3.0   \n",
              "Sporting Goods, Hobby, and Musical Instrument S...   5.221307  1.0   3.0   \n",
              "Health and Personal Care Stores                      3.953548  1.0   3.0   \n",
              "Clothing Stores                                      2.849186  1.0   3.0   \n",
              "\n",
              "                                                          50%        75%  \\\n",
              "Restaurants and Other Eating Places                 29.000000  39.250000   \n",
              "General Merchandise Stores, including Warehouse...  13.000000  18.000000   \n",
              "Building Material and Supplies Dealers               9.000000  16.000000   \n",
              "Grocery Stores                                       9.000000  13.052632   \n",
              "Traveler Accommodation                               7.000000  13.461538   \n",
              "Other Amusement and Recreation Industries            6.076923  10.000000   \n",
              "Automotive Parts, Accessories, and Tire Stores       5.600000   9.000000   \n",
              "Gasoline Stations                                    5.692308   9.000000   \n",
              "Department Stores                                    5.000000   8.909091   \n",
              "Sporting Goods, Hobby, and Musical Instrument S...   4.166667   8.000000   \n",
              "Health and Personal Care Stores                      5.000000   7.857143   \n",
              "Clothing Stores                                      4.333333   7.000000   \n",
              "\n",
              "                                                      max  \n",
              "Restaurants and Other Eating Places                 105.0  \n",
              "General Merchandise Stores, including Warehouse...   63.0  \n",
              "Building Material and Supplies Dealers               72.0  \n",
              "Grocery Stores                                       65.0  \n",
              "Traveler Accommodation                              118.0  \n",
              "Other Amusement and Recreation Industries            56.0  \n",
              "Automotive Parts, Accessories, and Tire Stores       81.0  \n",
              "Gasoline Stations                                    50.0  \n",
              "Department Stores                                    56.0  \n",
              "Sporting Goods, Hobby, and Musical Instrument S...   40.0  \n",
              "Health and Personal Care Stores                      35.0  \n",
              "Clothing Stores                                      20.0  "
            ],
            "text/html": [
              "\n",
              "  <div id=\"df-f89a3297-1fbb-4aed-9375-7ec108ebbada\">\n",
              "    <div class=\"colab-df-container\">\n",
              "      <div>\n",
              "<style scoped>\n",
              "    .dataframe tbody tr th:only-of-type {\n",
              "        vertical-align: middle;\n",
              "    }\n",
              "\n",
              "    .dataframe tbody tr th {\n",
              "        vertical-align: top;\n",
              "    }\n",
              "\n",
              "    .dataframe thead th {\n",
              "        text-align: right;\n",
              "    }\n",
              "</style>\n",
              "<table border=\"1\" class=\"dataframe\">\n",
              "  <thead>\n",
              "    <tr style=\"text-align: right;\">\n",
              "      <th></th>\n",
              "      <th>count</th>\n",
              "      <th>mean</th>\n",
              "      <th>std</th>\n",
              "      <th>min</th>\n",
              "      <th>25%</th>\n",
              "      <th>50%</th>\n",
              "      <th>75%</th>\n",
              "      <th>max</th>\n",
              "    </tr>\n",
              "  </thead>\n",
              "  <tbody>\n",
              "    <tr>\n",
              "      <th>Restaurants and Other Eating Places</th>\n",
              "      <td>480.0</td>\n",
              "      <td>32.220833</td>\n",
              "      <td>16.845645</td>\n",
              "      <td>2.0</td>\n",
              "      <td>20.0</td>\n",
              "      <td>29.000000</td>\n",
              "      <td>39.250000</td>\n",
              "      <td>105.0</td>\n",
              "    </tr>\n",
              "    <tr>\n",
              "      <th>General Merchandise Stores, including Warehouse Clubs and Supercenters</th>\n",
              "      <td>480.0</td>\n",
              "      <td>14.230190</td>\n",
              "      <td>8.501117</td>\n",
              "      <td>2.0</td>\n",
              "      <td>9.0</td>\n",
              "      <td>13.000000</td>\n",
              "      <td>18.000000</td>\n",
              "      <td>63.0</td>\n",
              "    </tr>\n",
              "    <tr>\n",
              "      <th>Building Material and Supplies Dealers</th>\n",
              "      <td>480.0</td>\n",
              "      <td>12.398861</td>\n",
              "      <td>11.170362</td>\n",
              "      <td>1.0</td>\n",
              "      <td>5.0</td>\n",
              "      <td>9.000000</td>\n",
              "      <td>16.000000</td>\n",
              "      <td>72.0</td>\n",
              "    </tr>\n",
              "    <tr>\n",
              "      <th>Grocery Stores</th>\n",
              "      <td>480.0</td>\n",
              "      <td>10.675890</td>\n",
              "      <td>7.565685</td>\n",
              "      <td>1.0</td>\n",
              "      <td>6.0</td>\n",
              "      <td>9.000000</td>\n",
              "      <td>13.052632</td>\n",
              "      <td>65.0</td>\n",
              "    </tr>\n",
              "    <tr>\n",
              "      <th>Traveler Accommodation</th>\n",
              "      <td>480.0</td>\n",
              "      <td>10.398986</td>\n",
              "      <td>9.884262</td>\n",
              "      <td>1.0</td>\n",
              "      <td>5.0</td>\n",
              "      <td>7.000000</td>\n",
              "      <td>13.461538</td>\n",
              "      <td>118.0</td>\n",
              "    </tr>\n",
              "    <tr>\n",
              "      <th>Other Amusement and Recreation Industries</th>\n",
              "      <td>480.0</td>\n",
              "      <td>7.861345</td>\n",
              "      <td>5.781132</td>\n",
              "      <td>1.0</td>\n",
              "      <td>4.0</td>\n",
              "      <td>6.076923</td>\n",
              "      <td>10.000000</td>\n",
              "      <td>56.0</td>\n",
              "    </tr>\n",
              "    <tr>\n",
              "      <th>Automotive Parts, Accessories, and Tire Stores</th>\n",
              "      <td>480.0</td>\n",
              "      <td>7.736373</td>\n",
              "      <td>6.939752</td>\n",
              "      <td>1.0</td>\n",
              "      <td>4.0</td>\n",
              "      <td>5.600000</td>\n",
              "      <td>9.000000</td>\n",
              "      <td>81.0</td>\n",
              "    </tr>\n",
              "    <tr>\n",
              "      <th>Gasoline Stations</th>\n",
              "      <td>480.0</td>\n",
              "      <td>6.934493</td>\n",
              "      <td>5.422963</td>\n",
              "      <td>1.0</td>\n",
              "      <td>4.0</td>\n",
              "      <td>5.692308</td>\n",
              "      <td>9.000000</td>\n",
              "      <td>50.0</td>\n",
              "    </tr>\n",
              "    <tr>\n",
              "      <th>Department Stores</th>\n",
              "      <td>480.0</td>\n",
              "      <td>6.673715</td>\n",
              "      <td>5.494720</td>\n",
              "      <td>1.0</td>\n",
              "      <td>3.0</td>\n",
              "      <td>5.000000</td>\n",
              "      <td>8.909091</td>\n",
              "      <td>56.0</td>\n",
              "    </tr>\n",
              "    <tr>\n",
              "      <th>Sporting Goods, Hobby, and Musical Instrument Stores</th>\n",
              "      <td>480.0</td>\n",
              "      <td>6.235355</td>\n",
              "      <td>5.221307</td>\n",
              "      <td>1.0</td>\n",
              "      <td>3.0</td>\n",
              "      <td>4.166667</td>\n",
              "      <td>8.000000</td>\n",
              "      <td>40.0</td>\n",
              "    </tr>\n",
              "    <tr>\n",
              "      <th>Health and Personal Care Stores</th>\n",
              "      <td>480.0</td>\n",
              "      <td>5.922816</td>\n",
              "      <td>3.953548</td>\n",
              "      <td>1.0</td>\n",
              "      <td>3.0</td>\n",
              "      <td>5.000000</td>\n",
              "      <td>7.857143</td>\n",
              "      <td>35.0</td>\n",
              "    </tr>\n",
              "    <tr>\n",
              "      <th>Clothing Stores</th>\n",
              "      <td>480.0</td>\n",
              "      <td>5.201587</td>\n",
              "      <td>2.849186</td>\n",
              "      <td>1.0</td>\n",
              "      <td>3.0</td>\n",
              "      <td>4.333333</td>\n",
              "      <td>7.000000</td>\n",
              "      <td>20.0</td>\n",
              "    </tr>\n",
              "  </tbody>\n",
              "</table>\n",
              "</div>\n",
              "      <button class=\"colab-df-convert\" onclick=\"convertToInteractive('df-f89a3297-1fbb-4aed-9375-7ec108ebbada')\"\n",
              "              title=\"Convert this dataframe to an interactive table.\"\n",
              "              style=\"display:none;\">\n",
              "        \n",
              "  <svg xmlns=\"http://www.w3.org/2000/svg\" height=\"24px\"viewBox=\"0 0 24 24\"\n",
              "       width=\"24px\">\n",
              "    <path d=\"M0 0h24v24H0V0z\" fill=\"none\"/>\n",
              "    <path d=\"M18.56 5.44l.94 2.06.94-2.06 2.06-.94-2.06-.94-.94-2.06-.94 2.06-2.06.94zm-11 1L8.5 8.5l.94-2.06 2.06-.94-2.06-.94L8.5 2.5l-.94 2.06-2.06.94zm10 10l.94 2.06.94-2.06 2.06-.94-2.06-.94-.94-2.06-.94 2.06-2.06.94z\"/><path d=\"M17.41 7.96l-1.37-1.37c-.4-.4-.92-.59-1.43-.59-.52 0-1.04.2-1.43.59L10.3 9.45l-7.72 7.72c-.78.78-.78 2.05 0 2.83L4 21.41c.39.39.9.59 1.41.59.51 0 1.02-.2 1.41-.59l7.78-7.78 2.81-2.81c.8-.78.8-2.07 0-2.86zM5.41 20L4 18.59l7.72-7.72 1.47 1.35L5.41 20z\"/>\n",
              "  </svg>\n",
              "      </button>\n",
              "      \n",
              "  <style>\n",
              "    .colab-df-container {\n",
              "      display:flex;\n",
              "      flex-wrap:wrap;\n",
              "      gap: 12px;\n",
              "    }\n",
              "\n",
              "    .colab-df-convert {\n",
              "      background-color: #E8F0FE;\n",
              "      border: none;\n",
              "      border-radius: 50%;\n",
              "      cursor: pointer;\n",
              "      display: none;\n",
              "      fill: #1967D2;\n",
              "      height: 32px;\n",
              "      padding: 0 0 0 0;\n",
              "      width: 32px;\n",
              "    }\n",
              "\n",
              "    .colab-df-convert:hover {\n",
              "      background-color: #E2EBFA;\n",
              "      box-shadow: 0px 1px 2px rgba(60, 64, 67, 0.3), 0px 1px 3px 1px rgba(60, 64, 67, 0.15);\n",
              "      fill: #174EA6;\n",
              "    }\n",
              "\n",
              "    [theme=dark] .colab-df-convert {\n",
              "      background-color: #3B4455;\n",
              "      fill: #D2E3FC;\n",
              "    }\n",
              "\n",
              "    [theme=dark] .colab-df-convert:hover {\n",
              "      background-color: #434B5C;\n",
              "      box-shadow: 0px 1px 3px 1px rgba(0, 0, 0, 0.15);\n",
              "      filter: drop-shadow(0px 1px 2px rgba(0, 0, 0, 0.3));\n",
              "      fill: #FFFFFF;\n",
              "    }\n",
              "  </style>\n",
              "\n",
              "      <script>\n",
              "        const buttonEl =\n",
              "          document.querySelector('#df-f89a3297-1fbb-4aed-9375-7ec108ebbada button.colab-df-convert');\n",
              "        buttonEl.style.display =\n",
              "          google.colab.kernel.accessAllowed ? 'block' : 'none';\n",
              "\n",
              "        async function convertToInteractive(key) {\n",
              "          const element = document.querySelector('#df-f89a3297-1fbb-4aed-9375-7ec108ebbada');\n",
              "          const dataTable =\n",
              "            await google.colab.kernel.invokeFunction('convertToInteractive',\n",
              "                                                     [key], {});\n",
              "          if (!dataTable) return;\n",
              "\n",
              "          const docLinkHtml = 'Like what you see? Visit the ' +\n",
              "            '<a target=\"_blank\" href=https://colab.research.google.com/notebooks/data_table.ipynb>data table notebook</a>'\n",
              "            + ' to learn more about interactive tables.';\n",
              "          element.innerHTML = '';\n",
              "          dataTable['output_type'] = 'display_data';\n",
              "          await google.colab.output.renderOutput(dataTable, element);\n",
              "          const docLink = document.createElement('div');\n",
              "          docLink.innerHTML = docLinkHtml;\n",
              "          element.appendChild(docLink);\n",
              "        }\n",
              "      </script>\n",
              "    </div>\n",
              "  </div>\n",
              "  "
            ]
          },
          "metadata": {},
          "execution_count": 4
        }
      ],
      "source": [
        "df_pop=df_all_samples_bootstrapped.describe().T\n",
        "#lets just select those products that appeared for all the reps(20 each) across 24 data samples\n",
        "top_consistent_categories=list(df_pop[df_pop['count']>=480].sort_values(by='mean',ascending=False).index)\n",
        "df_pop[df_pop['count']>=480].sort_values(by='mean',ascending=False)"
      ]
    },
    {
      "cell_type": "code",
      "execution_count": 5,
      "id": "75df01e8",
      "metadata": {
        "colab": {
          "base_uri": "https://localhost:8080/",
          "height": 598
        },
        "id": "75df01e8",
        "outputId": "b411e3cc-7588-484a-80b8-b1b927d49445"
      },
      "outputs": [
        {
          "output_type": "execute_result",
          "data": {
            "text/plain": [
              "<matplotlib.axes._subplots.AxesSubplot at 0x7f104722f5d0>"
            ]
          },
          "metadata": {},
          "execution_count": 5
        },
        {
          "output_type": "display_data",
          "data": {
            "text/plain": [
              "<Figure size 1440x576 with 1 Axes>"
            ],
            "image/png": "[encoded data removed]"
          },
          "metadata": {
            "needs_background": "light"
          }
        }
      ],
      "source": [
        "top_5_categories=top_consistent_categories[:5]\n",
        "df_temp=df_all_samples_bootstrapped.loc[:,top_5_categories]\n",
        "\n",
        "dff=df_temp.unstack(level=0).stack(level=0).swaplevel().sort_index().copy()\n",
        "#we need to detremine whether the distribution of count \n",
        "\n",
        "\n",
        "for p,df_p in dff.groupby(level=0):\n",
        "    df_p=df_p.droplevel(0)\n",
        "    if p.startswith('Restaurants'):\n",
        "        break\n",
        "df_p.boxplot(figsize=(20,8),rot=90)\n",
        "#This is performed just to extract restraunt based dataframes"
      ]
    },
    {
      "cell_type": "code",
      "execution_count": 6,
      "id": "aed518dc",
      "metadata": {
        "colab": {
          "base_uri": "https://localhost:8080/"
        },
        "id": "aed518dc",
        "outputId": "5cc798ed-9389-4e23-e23e-dde4de69a0aa"
      },
      "outputs": [
        {
          "output_type": "stream",
          "name": "stdout",
          "text": [
            "2021_01_first_half ct_users_0     14.0\n",
            "ct_users_1     34.0\n",
            "ct_users_10    19.0\n",
            "ct_users_11    22.0\n",
            "ct_users_12    33.0\n",
            "ct_users_13    19.0\n",
            "ct_users_14    32.0\n",
            "ct_users_15     8.0\n",
            "ct_users_16     5.0\n",
            "ct_users_17    16.0\n",
            "ct_users_18    11.0\n",
            "ct_users_19    17.0\n",
            "ct_users_2      4.0\n",
            "ct_users_3      9.0\n",
            "ct_users_4     22.0\n",
            "ct_users_5     17.0\n",
            "ct_users_6      7.0\n",
            "ct_users_7     19.0\n",
            "ct_users_8     43.0\n",
            "ct_users_9     10.0\n",
            "Name: 2021_01_first_half, dtype: float64\n"
          ]
        }
      ],
      "source": [
        "# for p,df_p in dff.groupby(level=0):\n",
        "#     print(p)\n",
        "#     display(df_p)\n",
        "#     break\n",
        "    \n",
        "for r,s in df_p.T.iterrows():\n",
        "    print(r,s)\n",
        "    break\n",
        "    #Samples of count of preference collected for a particular fortnight (timeperiod)\n",
        "    #ANOVA test check whether the introduction of new predictor is essential/significant or not\n",
        "    #here new preditor is the timer period fortnights (1...24)\n",
        "    \n",
        "    "
      ]
    },
    {
      "cell_type": "markdown",
      "id": "6e3735ce",
      "metadata": {
        "id": "6e3735ce"
      },
      "source": [
        "ct_user_1 represents an experiment ran on ~300 samples users of segment_id 24, and it generates a count of number of times a particular product category was chosen\n",
        "\n",
        "\n"
      ]
    },
    {
      "cell_type": "code",
      "execution_count": 7,
      "id": "42cc647c",
      "metadata": {
        "colab": {
          "base_uri": "https://localhost:8080/"
        },
        "id": "42cc647c",
        "outputId": "f31cca8a-3b4e-461e-e43b-f196b52fb8b6"
      },
      "outputs": [
        {
          "output_type": "execute_result",
          "data": {
            "text/plain": [
              "F_onewayResult(statistic=10.932500307171823, pvalue=4.265314494107939e-31)"
            ]
          },
          "metadata": {},
          "execution_count": 7
        }
      ],
      "source": [
        "#will run tTest_independednt to check difference in mean between data collected across 24 different fornights\n",
        "#For now we have 24 sample comprising of 20 value each and we intend to check whether the 24 samples comes from different mean\n",
        "\n",
        "# anova(np.random.normal(1,size=10),np.random.normal(1,size=10),np.random.normal(1,size=10))\n",
        "#Anova check on f stat which compares explainability ratio of two models, one with the global mean and other one with localised means\n",
        "#If fstat is high >>1 then the null hypothesis of ratio being 1 can be rejected \n",
        "\n",
        "anova(*list(df_p.T.values))"
      ]
    },
    {
      "cell_type": "code",
      "execution_count": 8,
      "id": "0fa079d0",
      "metadata": {
        "id": "0fa079d0"
      },
      "outputs": [],
      "source": [
        "#THis anova based test just checks whether the other fortnights values are different from the first one or not\\\n",
        "#Pivot is the first fortnight array\n",
        "f_stat_jump={}\n",
        "p_val_jump={}\n",
        "data_till_date=[]\n",
        "for ii,(idx,r) in enumerate(df_p.T.iterrows()):\n",
        "    temp_data=list(r.values)\n",
        "    if ii==0: \n",
        "        data_till_date.extend(temp_data)\n",
        "        pass\n",
        "    anova_test=anova(data_till_date,temp_data)\n",
        "    #This test is run successively on introduction of each new predictor, for example is two fornights are required to explain january count data or can it be explained with one global mean\n",
        "    f_stat_jump[idx]=anova_test.statistic\n",
        "    p_val_jump[idx]=anova_test.pvalue\n",
        "    \n"
      ]
    },
    {
      "cell_type": "code",
      "source": [
        "data_till_date\n",
        "list(df_p.T.values)\n",
        "anova([1,2,3,1,1],[1,2,3,1,1])#F_onewayResult(statistic=0.0, pvalue=1.0)#[10,10,10,30,200,1e1])\n",
        "\n",
        "import numpy.random as npr\n",
        "\n",
        "anova(npr.normal(1,1,1000),\n",
        "npr.normal(10,1,1000))#F_onewayResult(statistic=40642.076891701734, pvalue=0.0)\n",
        "\n",
        "anova(npr.normal(1,1,1000),\n",
        "npr.normal(10,1,100))#F_onewayResult(statistic=7660.144181541927, pvalue=0.0) the means are deviated and we sh0uld introduce a new predictor\n",
        "\n",
        "anova(npr.normal(1,1,1000),\n",
        "npr.normal(1,1,100),\n",
        "npr.normal(10,1,100))#F_onewayResult(statistic=3663.7558220163814, pvalue=0.0)"
      ],
      "metadata": {
        "colab": {
          "base_uri": "https://localhost:8080/"
        },
        "id": "efLPAA2ui_43",
        "outputId": "94bcbb58-b884-4f90-fa1e-a6ef9bb94477"
      },
      "id": "efLPAA2ui_43",
      "execution_count": 9,
      "outputs": [
        {
          "output_type": "execute_result",
          "data": {
            "text/plain": [
              "F_onewayResult(statistic=3852.4389008966896, pvalue=0.0)"
            ]
          },
          "metadata": {},
          "execution_count": 9
        }
      ]
    },
    {
      "cell_type": "code",
      "execution_count": 10,
      "id": "77446c2c",
      "metadata": {
        "colab": {
          "base_uri": "https://localhost:8080/",
          "height": 614
        },
        "id": "77446c2c",
        "outputId": "1d002cf4-2ff9-4993-df6b-42e7ff0c5bba"
      },
      "outputs": [
        {
          "output_type": "execute_result",
          "data": {
            "text/plain": [
              "Text(0.5, 1.0, 'Bootstrap_count')"
            ]
          },
          "metadata": {},
          "execution_count": 10
        },
        {
          "output_type": "display_data",
          "data": {
            "text/plain": [
              "<Figure size 1800x576 with 2 Axes>"
            ],
            "image/png": "[encoded data removed]"
          },
          "metadata": {
            "needs_background": "light"
          }
        }
      ],
      "source": [
        "# anova(*list(df_p.T.values)).statistic\n",
        "_,ax=plt.subplots(1,2,figsize=(25,8))\n",
        "pd.Series(f_stat_jump).plot(ax=ax[0],rot=90)\n",
        "ax[0].set_title('FSTAT_JUMP')\n",
        "df_p.boxplot(rot=90,ax=ax[1])\n",
        "ax[1].set_title('Bootstrap_count')\n",
        "\n"
      ]
    },
    {
      "cell_type": "code",
      "execution_count": 11,
      "id": "7a475aa4",
      "metadata": {
        "colab": {
          "base_uri": "https://localhost:8080/",
          "height": 283
        },
        "id": "7a475aa4",
        "outputId": "acd8707e-01cf-454e-bbc9-f109b9ea69e2"
      },
      "outputs": [
        {
          "output_type": "execute_result",
          "data": {
            "text/plain": [
              "<matplotlib.axes._subplots.AxesSubplot at 0x7f1047254ed0>"
            ]
          },
          "metadata": {},
          "execution_count": 11
        },
        {
          "output_type": "display_data",
          "data": {
            "text/plain": [
              "<Figure size 432x288 with 1 Axes>"
            ],
            "image/png": "[encoded data removed]"
          },
          "metadata": {
            "needs_background": "light"
          }
        }
      ],
      "source": [
        "pd.Series(p_val_jump).plot()"
      ]
    },
    {
      "cell_type": "code",
      "execution_count": 12,
      "id": "f9617652",
      "metadata": {
        "id": "f9617652"
      },
      "outputs": [],
      "source": [
        "# We will apply divide and conquer and then perform this fstat test iteratively"
      ]
    },
    {
      "cell_type": "markdown",
      "source": [
        "## ANOVA ttest on iterative halves of the data "
      ],
      "metadata": {
        "id": "5kGGLjgAitaT"
      },
      "id": "5kGGLjgAitaT"
    },
    {
      "cell_type": "code",
      "source": [
        "lt_tbu=list(range(len(df_p.columns)))"
      ],
      "metadata": {
        "id": "UNR4sHrYbFUA"
      },
      "id": "UNR4sHrYbFUA",
      "execution_count": 13,
      "outputs": []
    },
    {
      "cell_type": "code",
      "source": [
        "from collections import defaultdict\n",
        "dict_partition=defaultdict(list)"
      ],
      "metadata": {
        "id": "m-Wrz9B1gzVh"
      },
      "id": "m-Wrz9B1gzVh",
      "execution_count": 34,
      "outputs": []
    },
    {
      "cell_type": "code",
      "source": [
        "depth=0\n",
        "l_pointer=0\n",
        "r_pointer=23\n",
        "\n",
        "def partitioner(l_pointer,r_pointer,depth):\n",
        "  global df_p,dict_partition\n",
        "\n",
        "  mid_point=int((l_pointer+r_pointer)//2)\n",
        "\n",
        "  lt_df=df_p.iloc[:,l_pointer:mid_point]\n",
        "  dict_partition[depth].append(lt_df)\n",
        "\n",
        "  rt_df=df_p.iloc[:,mid_point:r_pointer]\n",
        "  dict_partition[depth].append(rt_df)\n",
        "  return \n"
      ],
      "metadata": {
        "id": "ZaOmpMhqeop6"
      },
      "id": "ZaOmpMhqeop6",
      "execution_count": 15,
      "outputs": []
    },
    {
      "cell_type": "code",
      "source": [
        "# dict_partition\n",
        "# partitioner(0,23,0)"
      ],
      "metadata": {
        "id": "8ld2-oo0fxHN"
      },
      "id": "8ld2-oo0fxHN",
      "execution_count": 16,
      "outputs": []
    },
    {
      "cell_type": "code",
      "source": [
        "def partitioner(l_pointer,r_pointer,depth,stop_val=5):\n",
        "  global df_p,dict_partition\n",
        "\n",
        "  if depth==stop_val:\n",
        "    return \n",
        "\n",
        "  mid_point=int((l_pointer+r_pointer)//2)\n",
        "\n",
        "  lt_df=df_p.iloc[:,l_pointer:mid_point]\n",
        "  dict_partition[depth].append(lt_df)\n",
        "  partitioner(l_pointer,mid_point,depth+1)\n",
        "\n",
        "  rt_df=df_p.iloc[:,mid_point:r_pointer]\n",
        "  dict_partition[depth].append(rt_df)\n",
        "  partitioner(mid_point,r_pointer,depth+1)\n",
        "\n",
        "  return \n",
        "\n",
        "dict_partition=defaultdict(list)\n",
        "partitioner(0,23,0)#Be mindful of the stop value, In this cache we have stored data till depth of 4"
      ],
      "metadata": {
        "id": "SvbGkRushE1d"
      },
      "id": "SvbGkRushE1d",
      "execution_count": 35,
      "outputs": []
    },
    {
      "cell_type": "code",
      "source": [
        "len(dict_partition[0]),len(dict_partition[1])"
      ],
      "metadata": {
        "colab": {
          "base_uri": "https://localhost:8080/"
        },
        "id": "gisdwNBehbr1",
        "outputId": "28950ea8-ee11-477e-e983-eb150155ce47"
      },
      "id": "gisdwNBehbr1",
      "execution_count": 36,
      "outputs": [
        {
          "output_type": "execute_result",
          "data": {
            "text/plain": [
              "(2, 4)"
            ]
          },
          "metadata": {},
          "execution_count": 36
        }
      ]
    },
    {
      "cell_type": "code",
      "source": [
        "depth=1\n",
        "plot=True\n",
        "\n",
        "fStat_depth=defaultdict(float)\n",
        "pval_depth=defaultdict(float)\n",
        "\n",
        "\n",
        "def analyse_fStat(depth,plot=True):\n",
        "  global fStat_depth,pval_depth,dict_partition\n",
        "  lt_lt_bootstraps=[]\n",
        "\n",
        "  for temp_df in dict_partition[depth]:\n",
        "    lt_lt_bootstraps.append(temp_df.values.reshape(-1,))\n",
        "  anova_test=anova(*lt_lt_bootstraps)\n",
        "\n",
        "  fStat_depth[depth]=anova_test.statistic\n",
        "  pval_depth[depth]=anova_test.pvalue\n",
        "\n",
        "  if plot:\n",
        "    pd.DataFrame(lt_lt_bootstraps).T.boxplot()\n",
        "  return \n",
        "\n",
        "\n",
        "# temp_df=dict_partition[1][0]\n",
        "# temp_df.values.reshape(-1,)\n",
        "analyse_fStat(depth=0)\n"
      ],
      "metadata": {
        "colab": {
          "base_uri": "https://localhost:8080/",
          "height": 320
        },
        "id": "v7dwoiOQiL0Z",
        "outputId": "e039859b-0d6a-4472-9bbf-0c022c3861aa"
      },
      "id": "v7dwoiOQiL0Z",
      "execution_count": 37,
      "outputs": [
        {
          "output_type": "stream",
          "name": "stderr",
          "text": [
            "/usr/local/lib/python3.7/dist-packages/matplotlib/cbook/__init__.py:1376: VisibleDeprecationWarning: Creating an ndarray from ragged nested sequences (which is a list-or-tuple of lists-or-tuples-or ndarrays with different lengths or shapes) is deprecated. If you meant to do this, you must specify 'dtype=object' when creating the ndarray.\n",
            "  X = np.atleast_1d(X.T if isinstance(X, np.ndarray) else np.asarray(X))\n"
          ]
        },
        {
          "output_type": "display_data",
          "data": {
            "text/plain": [
              "<Figure size 432x288 with 1 Axes>"
            ],
            "image/png": "[encoded data removed]"
          },
          "metadata": {
            "needs_background": "light"
          }
        }
      ]
    },
    {
      "cell_type": "code",
      "source": [
        "analyse_fStat(depth=1)\n"
      ],
      "metadata": {
        "colab": {
          "base_uri": "https://localhost:8080/",
          "height": 320
        },
        "id": "d2S5KwteqVw0",
        "outputId": "ec659897-ad74-45e9-9b19-e4f09b4af5b8"
      },
      "id": "d2S5KwteqVw0",
      "execution_count": 38,
      "outputs": [
        {
          "output_type": "stream",
          "name": "stderr",
          "text": [
            "/usr/local/lib/python3.7/dist-packages/matplotlib/cbook/__init__.py:1376: VisibleDeprecationWarning: Creating an ndarray from ragged nested sequences (which is a list-or-tuple of lists-or-tuples-or ndarrays with different lengths or shapes) is deprecated. If you meant to do this, you must specify 'dtype=object' when creating the ndarray.\n",
            "  X = np.atleast_1d(X.T if isinstance(X, np.ndarray) else np.asarray(X))\n"
          ]
        },
        {
          "output_type": "display_data",
          "data": {
            "text/plain": [
              "<Figure size 432x288 with 1 Axes>"
            ],
            "image/png": "[encoded data removed]"
          },
          "metadata": {
            "needs_background": "light"
          }
        }
      ]
    },
    {
      "cell_type": "code",
      "source": [
        "analyse_fStat(depth=2)\n"
      ],
      "metadata": {
        "colab": {
          "base_uri": "https://localhost:8080/",
          "height": 320
        },
        "id": "sWj_faRpqtkX",
        "outputId": "cb8ba85e-7610-4d80-8074-0eb0e2391d4e"
      },
      "id": "sWj_faRpqtkX",
      "execution_count": 39,
      "outputs": [
        {
          "output_type": "stream",
          "name": "stderr",
          "text": [
            "/usr/local/lib/python3.7/dist-packages/matplotlib/cbook/__init__.py:1376: VisibleDeprecationWarning: Creating an ndarray from ragged nested sequences (which is a list-or-tuple of lists-or-tuples-or ndarrays with different lengths or shapes) is deprecated. If you meant to do this, you must specify 'dtype=object' when creating the ndarray.\n",
            "  X = np.atleast_1d(X.T if isinstance(X, np.ndarray) else np.asarray(X))\n"
          ]
        },
        {
          "output_type": "display_data",
          "data": {
            "text/plain": [
              "<Figure size 432x288 with 1 Axes>"
            ],
            "image/png": "[encoded data removed]"
          },
          "metadata": {
            "needs_background": "light"
          }
        }
      ]
    },
    {
      "cell_type": "code",
      "source": [
        "analyse_fStat(depth=3)\n",
        "# dict_partition[10]"
      ],
      "metadata": {
        "colab": {
          "base_uri": "https://localhost:8080/",
          "height": 320
        },
        "id": "pUV5JSXFgk3I",
        "outputId": "c251edc3-bb04-41cf-cee7-9776b797c766"
      },
      "id": "pUV5JSXFgk3I",
      "execution_count": 41,
      "outputs": [
        {
          "output_type": "stream",
          "name": "stderr",
          "text": [
            "/usr/local/lib/python3.7/dist-packages/matplotlib/cbook/__init__.py:1376: VisibleDeprecationWarning: Creating an ndarray from ragged nested sequences (which is a list-or-tuple of lists-or-tuples-or ndarrays with different lengths or shapes) is deprecated. If you meant to do this, you must specify 'dtype=object' when creating the ndarray.\n",
            "  X = np.atleast_1d(X.T if isinstance(X, np.ndarray) else np.asarray(X))\n"
          ]
        },
        {
          "output_type": "display_data",
          "data": {
            "text/plain": [
              "<Figure size 432x288 with 1 Axes>"
            ],
            "image/png": "[encoded data removed]"
          },
          "metadata": {
            "needs_background": "light"
          }
        }
      ]
    },
    {
      "cell_type": "code",
      "source": [
        "analyse_fStat(depth=4)#Slightly irrelevant as we initially have just 24 partitions of the of columns in the parent dataframe\n"
      ],
      "metadata": {
        "colab": {
          "base_uri": "https://localhost:8080/",
          "height": 354
        },
        "id": "KHkswA8Hhtd_",
        "outputId": "17349502-7c48-4a2a-aa4f-37fd8a7e5dbb"
      },
      "id": "KHkswA8Hhtd_",
      "execution_count": 42,
      "outputs": [
        {
          "output_type": "stream",
          "name": "stderr",
          "text": [
            "/usr/local/lib/python3.7/dist-packages/scipy/stats/stats.py:3339: RuntimeWarning: invalid value encountered in double_scalars\n",
            "  ssbn += _square_of_sums(a - offset) / len(a)\n",
            "/usr/local/lib/python3.7/dist-packages/matplotlib/cbook/__init__.py:1376: VisibleDeprecationWarning: Creating an ndarray from ragged nested sequences (which is a list-or-tuple of lists-or-tuples-or ndarrays with different lengths or shapes) is deprecated. If you meant to do this, you must specify 'dtype=object' when creating the ndarray.\n",
            "  X = np.atleast_1d(X.T if isinstance(X, np.ndarray) else np.asarray(X))\n"
          ]
        },
        {
          "output_type": "display_data",
          "data": {
            "text/plain": [
              "<Figure size 432x288 with 1 Axes>"
            ],
            "image/png": "[encoded data removed]"
          },
          "metadata": {
            "needs_background": "light"
          }
        }
      ]
    },
    {
      "cell_type": "code",
      "source": [
        "pd.DataFrame(\n",
        "    {\n",
        "      'fstat':fStat_depth,\n",
        "     'pval': pval_depth\n",
        "    }\n",
        "          ).plot(figsize=(20,8),subplots=True)#The pval  (which is always closer to 0 for all depths suggest that the partition is significant from the first depth itself)"
      ],
      "metadata": {
        "colab": {
          "base_uri": "https://localhost:8080/",
          "height": 535
        },
        "id": "c9TmT_hFh64G",
        "outputId": "22f3c226-2d63-43a3-a791-cecf9b0dd02d"
      },
      "id": "c9TmT_hFh64G",
      "execution_count": 45,
      "outputs": [
        {
          "output_type": "execute_result",
          "data": {
            "text/plain": [
              "array([<matplotlib.axes._subplots.AxesSubplot object at 0x7f10437f9b90>,\n",
              "       <matplotlib.axes._subplots.AxesSubplot object at 0x7f1043fa4690>],\n",
              "      dtype=object)"
            ]
          },
          "metadata": {},
          "execution_count": 45
        },
        {
          "output_type": "display_data",
          "data": {
            "text/plain": [
              "<Figure size 1440x576 with 2 Axes>"
            ],
            "image/png": "[encoded data removed]"
          },
          "metadata": {
            "needs_background": "light"
          }
        }
      ]
    },
    {
      "cell_type": "markdown",
      "source": [
        "# ROUGH WORK"
      ],
      "metadata": {
        "id": "tc8_ucFTqT-T"
      },
      "id": "tc8_ucFTqT-T"
    },
    {
      "cell_type": "code",
      "source": [
        "anova(*lt_lt_bootstraps)"
      ],
      "metadata": {
        "colab": {
          "base_uri": "https://localhost:8080/"
        },
        "id": "nMkNf9jaiNZB",
        "outputId": "72fe5378-8271-4fd8-aa48-631a5ca011df"
      },
      "id": "nMkNf9jaiNZB",
      "execution_count": 68,
      "outputs": [
        {
          "output_type": "execute_result",
          "data": {
            "text/plain": [
              "F_onewayResult(statistic=53.174794224077566, pvalue=1.7285298838953773e-29)"
            ]
          },
          "metadata": {},
          "execution_count": 68
        }
      ]
    },
    {
      "cell_type": "code",
      "source": [
        "len(lt_lt_bootstraps)\n",
        "pd.DataFrame(lt_lt_bootstraps)"
      ],
      "metadata": {
        "colab": {
          "base_uri": "https://localhost:8080/",
          "height": 204
        },
        "id": "zLIew6qCo7nq",
        "outputId": "772d6e02-b9cc-4aa4-d37f-e7ec11a0eb91"
      },
      "id": "zLIew6qCo7nq",
      "execution_count": 73,
      "outputs": [
        {
          "output_type": "execute_result",
          "data": {
            "text/plain": [
              "    0     1     2     3     4     5     6     7     8     9    ...   110  \\\n",
              "0  14.0  11.0  28.0   3.0  31.0  34.0  32.0  14.0  23.0  31.0  ...   NaN   \n",
              "1  26.0  35.0  25.0  22.0  37.0  21.0  24.0  28.0  21.0  16.0  ...  21.0   \n",
              "2  16.0  55.0  17.0  70.0  47.0  33.0  17.0  57.0  70.0  36.0  ...  43.0   \n",
              "3  40.0  36.0  45.0  45.0  38.0  63.0  30.0  91.0  12.0  51.0  ...  35.0   \n",
              "\n",
              "    111   112   113   114   115   116   117   118   119  \n",
              "0   NaN   NaN   NaN   NaN   NaN   NaN   NaN   NaN   NaN  \n",
              "1  32.0  24.0  23.0  20.0  29.0  23.0  22.0  27.0  22.0  \n",
              "2  24.0  41.0  32.0  24.0  36.0  38.0  29.0  54.0  37.0  \n",
              "3  36.0  27.0  13.0  39.0  30.0  34.0  73.0  30.0  48.0  \n",
              "\n",
              "[4 rows x 120 columns]"
            ],
            "text/html": [
              "\n",
              "  <div id=\"df-692a4ae1-7404-43f4-a9af-e72a5a886832\">\n",
              "    <div class=\"colab-df-container\">\n",
              "      <div>\n",
              "<style scoped>\n",
              "    .dataframe tbody tr th:only-of-type {\n",
              "        vertical-align: middle;\n",
              "    }\n",
              "\n",
              "    .dataframe tbody tr th {\n",
              "        vertical-align: top;\n",
              "    }\n",
              "\n",
              "    .dataframe thead th {\n",
              "        text-align: right;\n",
              "    }\n",
              "</style>\n",
              "<table border=\"1\" class=\"dataframe\">\n",
              "  <thead>\n",
              "    <tr style=\"text-align: right;\">\n",
              "      <th></th>\n",
              "      <th>0</th>\n",
              "      <th>1</th>\n",
              "      <th>2</th>\n",
              "      <th>3</th>\n",
              "      <th>4</th>\n",
              "      <th>5</th>\n",
              "      <th>6</th>\n",
              "      <th>7</th>\n",
              "      <th>8</th>\n",
              "      <th>9</th>\n",
              "      <th>...</th>\n",
              "      <th>110</th>\n",
              "      <th>111</th>\n",
              "      <th>112</th>\n",
              "      <th>113</th>\n",
              "      <th>114</th>\n",
              "      <th>115</th>\n",
              "      <th>116</th>\n",
              "      <th>117</th>\n",
              "      <th>118</th>\n",
              "      <th>119</th>\n",
              "    </tr>\n",
              "  </thead>\n",
              "  <tbody>\n",
              "    <tr>\n",
              "      <th>0</th>\n",
              "      <td>14.0</td>\n",
              "      <td>11.0</td>\n",
              "      <td>28.0</td>\n",
              "      <td>3.0</td>\n",
              "      <td>31.0</td>\n",
              "      <td>34.0</td>\n",
              "      <td>32.0</td>\n",
              "      <td>14.0</td>\n",
              "      <td>23.0</td>\n",
              "      <td>31.0</td>\n",
              "      <td>...</td>\n",
              "      <td>NaN</td>\n",
              "      <td>NaN</td>\n",
              "      <td>NaN</td>\n",
              "      <td>NaN</td>\n",
              "      <td>NaN</td>\n",
              "      <td>NaN</td>\n",
              "      <td>NaN</td>\n",
              "      <td>NaN</td>\n",
              "      <td>NaN</td>\n",
              "      <td>NaN</td>\n",
              "    </tr>\n",
              "    <tr>\n",
              "      <th>1</th>\n",
              "      <td>26.0</td>\n",
              "      <td>35.0</td>\n",
              "      <td>25.0</td>\n",
              "      <td>22.0</td>\n",
              "      <td>37.0</td>\n",
              "      <td>21.0</td>\n",
              "      <td>24.0</td>\n",
              "      <td>28.0</td>\n",
              "      <td>21.0</td>\n",
              "      <td>16.0</td>\n",
              "      <td>...</td>\n",
              "      <td>21.0</td>\n",
              "      <td>32.0</td>\n",
              "      <td>24.0</td>\n",
              "      <td>23.0</td>\n",
              "      <td>20.0</td>\n",
              "      <td>29.0</td>\n",
              "      <td>23.0</td>\n",
              "      <td>22.0</td>\n",
              "      <td>27.0</td>\n",
              "      <td>22.0</td>\n",
              "    </tr>\n",
              "    <tr>\n",
              "      <th>2</th>\n",
              "      <td>16.0</td>\n",
              "      <td>55.0</td>\n",
              "      <td>17.0</td>\n",
              "      <td>70.0</td>\n",
              "      <td>47.0</td>\n",
              "      <td>33.0</td>\n",
              "      <td>17.0</td>\n",
              "      <td>57.0</td>\n",
              "      <td>70.0</td>\n",
              "      <td>36.0</td>\n",
              "      <td>...</td>\n",
              "      <td>43.0</td>\n",
              "      <td>24.0</td>\n",
              "      <td>41.0</td>\n",
              "      <td>32.0</td>\n",
              "      <td>24.0</td>\n",
              "      <td>36.0</td>\n",
              "      <td>38.0</td>\n",
              "      <td>29.0</td>\n",
              "      <td>54.0</td>\n",
              "      <td>37.0</td>\n",
              "    </tr>\n",
              "    <tr>\n",
              "      <th>3</th>\n",
              "      <td>40.0</td>\n",
              "      <td>36.0</td>\n",
              "      <td>45.0</td>\n",
              "      <td>45.0</td>\n",
              "      <td>38.0</td>\n",
              "      <td>63.0</td>\n",
              "      <td>30.0</td>\n",
              "      <td>91.0</td>\n",
              "      <td>12.0</td>\n",
              "      <td>51.0</td>\n",
              "      <td>...</td>\n",
              "      <td>35.0</td>\n",
              "      <td>36.0</td>\n",
              "      <td>27.0</td>\n",
              "      <td>13.0</td>\n",
              "      <td>39.0</td>\n",
              "      <td>30.0</td>\n",
              "      <td>34.0</td>\n",
              "      <td>73.0</td>\n",
              "      <td>30.0</td>\n",
              "      <td>48.0</td>\n",
              "    </tr>\n",
              "  </tbody>\n",
              "</table>\n",
              "<p>4 rows × 120 columns</p>\n",
              "</div>\n",
              "      <button class=\"colab-df-convert\" onclick=\"convertToInteractive('df-692a4ae1-7404-43f4-a9af-e72a5a886832')\"\n",
              "              title=\"Convert this dataframe to an interactive table.\"\n",
              "              style=\"display:none;\">\n",
              "        \n",
              "  <svg xmlns=\"http://www.w3.org/2000/svg\" height=\"24px\"viewBox=\"0 0 24 24\"\n",
              "       width=\"24px\">\n",
              "    <path d=\"M0 0h24v24H0V0z\" fill=\"none\"/>\n",
              "    <path d=\"M18.56 5.44l.94 2.06.94-2.06 2.06-.94-2.06-.94-.94-2.06-.94 2.06-2.06.94zm-11 1L8.5 8.5l.94-2.06 2.06-.94-2.06-.94L8.5 2.5l-.94 2.06-2.06.94zm10 10l.94 2.06.94-2.06 2.06-.94-2.06-.94-.94-2.06-.94 2.06-2.06.94z\"/><path d=\"M17.41 7.96l-1.37-1.37c-.4-.4-.92-.59-1.43-.59-.52 0-1.04.2-1.43.59L10.3 9.45l-7.72 7.72c-.78.78-.78 2.05 0 2.83L4 21.41c.39.39.9.59 1.41.59.51 0 1.02-.2 1.41-.59l7.78-7.78 2.81-2.81c.8-.78.8-2.07 0-2.86zM5.41 20L4 18.59l7.72-7.72 1.47 1.35L5.41 20z\"/>\n",
              "  </svg>\n",
              "      </button>\n",
              "      \n",
              "  <style>\n",
              "    .colab-df-container {\n",
              "      display:flex;\n",
              "      flex-wrap:wrap;\n",
              "      gap: 12px;\n",
              "    }\n",
              "\n",
              "    .colab-df-convert {\n",
              "      background-color: #E8F0FE;\n",
              "      border: none;\n",
              "      border-radius: 50%;\n",
              "      cursor: pointer;\n",
              "      display: none;\n",
              "      fill: #1967D2;\n",
              "      height: 32px;\n",
              "      padding: 0 0 0 0;\n",
              "      width: 32px;\n",
              "    }\n",
              "\n",
              "    .colab-df-convert:hover {\n",
              "      background-color: #E2EBFA;\n",
              "      box-shadow: 0px 1px 2px rgba(60, 64, 67, 0.3), 0px 1px 3px 1px rgba(60, 64, 67, 0.15);\n",
              "      fill: #174EA6;\n",
              "    }\n",
              "\n",
              "    [theme=dark] .colab-df-convert {\n",
              "      background-color: #3B4455;\n",
              "      fill: #D2E3FC;\n",
              "    }\n",
              "\n",
              "    [theme=dark] .colab-df-convert:hover {\n",
              "      background-color: #434B5C;\n",
              "      box-shadow: 0px 1px 3px 1px rgba(0, 0, 0, 0.15);\n",
              "      filter: drop-shadow(0px 1px 2px rgba(0, 0, 0, 0.3));\n",
              "      fill: #FFFFFF;\n",
              "    }\n",
              "  </style>\n",
              "\n",
              "      <script>\n",
              "        const buttonEl =\n",
              "          document.querySelector('#df-692a4ae1-7404-43f4-a9af-e72a5a886832 button.colab-df-convert');\n",
              "        buttonEl.style.display =\n",
              "          google.colab.kernel.accessAllowed ? 'block' : 'none';\n",
              "\n",
              "        async function convertToInteractive(key) {\n",
              "          const element = document.querySelector('#df-692a4ae1-7404-43f4-a9af-e72a5a886832');\n",
              "          const dataTable =\n",
              "            await google.colab.kernel.invokeFunction('convertToInteractive',\n",
              "                                                     [key], {});\n",
              "          if (!dataTable) return;\n",
              "\n",
              "          const docLinkHtml = 'Like what you see? Visit the ' +\n",
              "            '<a target=\"_blank\" href=https://colab.research.google.com/notebooks/data_table.ipynb>data table notebook</a>'\n",
              "            + ' to learn more about interactive tables.';\n",
              "          element.innerHTML = '';\n",
              "          dataTable['output_type'] = 'display_data';\n",
              "          await google.colab.output.renderOutput(dataTable, element);\n",
              "          const docLink = document.createElement('div');\n",
              "          docLink.innerHTML = docLinkHtml;\n",
              "          element.appendChild(docLink);\n",
              "        }\n",
              "      </script>\n",
              "    </div>\n",
              "  </div>\n",
              "  "
            ]
          },
          "metadata": {},
          "execution_count": 73
        }
      ]
    },
    {
      "cell_type": "code",
      "source": [
        ""
      ],
      "metadata": {
        "id": "WRi3P6Ynpa-t"
      },
      "id": "WRi3P6Ynpa-t",
      "execution_count": null,
      "outputs": []
    }
  ],
  "metadata": {
    "kernelspec": {
      "display_name": "conda_amazonei_mxnet_p36",
      "language": "python",
      "name": "conda_amazonei_mxnet_p36"
    },
    "language_info": {
      "codemirror_mode": {
        "name": "ipython",
        "version": 3
      },
      "file_extension": ".py",
      "mimetype": "text/x-python",
      "name": "python",
      "nbconvert_exporter": "python",
      "pygments_lexer": "ipython3",
      "version": "3.6.13"
    },
    "colab": {
      "name": "ANOVA_partition_basedCheck.ipynb",
      "provenance": [],
      "collapsed_sections": []
    }
  },
  "nbformat": 4,
  "nbformat_minor": 5
}