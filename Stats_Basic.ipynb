{
  "nbformat": 4,
  "nbformat_minor": 0,
  "metadata": {
    "colab": {
      "name": "Stats_Basic.ipynb",
      "provenance": []
    },
    "kernelspec": {
      "name": "python3",
      "display_name": "Python 3"
    },
    "language_info": {
      "name": "python"
    }
  },
  "cells": [
    {
      "cell_type": "code",
      "execution_count": 1,
      "metadata": {
        "id": "f_3JqGPonYEu"
      },
      "outputs": [],
      "source": [
        "import numpy as np"
      ]
    },
    {
      "cell_type": "markdown",
      "source": [
        "Median, Quartiles and Std dev"
      ],
      "metadata": {
        "id": "R_yhHVlTpQOZ"
      }
    },
    {
      "cell_type": "code",
      "source": [
        "def stdDev(arr):\n",
        "    # Print your answers to 1 decimal place within this function\n",
        "    n=len(arr)\n",
        "    mean=(sum(arr)/n)\n",
        "    \n",
        "    var=0\n",
        "    for i in arr:\n",
        "        temp=(1/n)*(i*i - mean*mean)\n",
        "        var+=temp\n",
        "    std_dev=pow(var,1/2)\n",
        "    return (float(round(std_dev,1)))\n",
        "\n",
        "\n",
        "def interQuartile(values, freqs):\n",
        "    # Print your answer to 1 decimal place within this function\n",
        "    data=[]\n",
        "    for i in range(len(values)):\n",
        "        temp=[values[i]]*freqs[i]\n",
        "        data.extend(temp)\n",
        "    \n",
        "    data=sorted(data)\n",
        "    def find_median(arr):\n",
        "        n=len(arr)\n",
        "        if n%2==0:\n",
        "            median_idxs=((n//2)-1,n//2)\n",
        "            median=(arr[median_idxs[0]]+arr[median_idxs[1]])/2\n",
        "        else:\n",
        "            median_idxs=n//2\n",
        "            median=arr[median_idxs]\n",
        "        return (median, median_idxs)\n",
        "    n=len(data)\n",
        "    q2,idxs=find_median(data)\n",
        "    # print(q2,idxs)\n",
        "    if n%2==0:\n",
        "        q1=find_median(data[:idxs[1]])[0]\n",
        "        q3=find_median(data[idxs[1]:])[0]\n",
        "    else:\n",
        "        q1=find_median(data[:idxs])[0]\n",
        "        q3=find_median(data[idxs+1:])[0]\n",
        "    \n",
        "    return (float(round(q3-q1,1)))  \n",
        "  "
      ],
      "metadata": {
        "id": "mpDv57jvnbOc"
      },
      "execution_count": null,
      "outputs": []
    }
  ]
}